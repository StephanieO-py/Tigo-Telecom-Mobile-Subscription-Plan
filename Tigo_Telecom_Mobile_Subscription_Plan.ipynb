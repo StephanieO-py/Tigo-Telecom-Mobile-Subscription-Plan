{
  "nbformat": 4,
  "nbformat_minor": 0,
  "metadata": {
    "colab": {
      "name": " Tigo Telecom Mobile Subscription Plan",
      "provenance": [],
      "include_colab_link": true
    },
    "kernelspec": {
      "name": "python3",
      "display_name": "Python 3"
    },
    "language_info": {
      "name": "python"
    }
  },
  "cells": [
    {
      "cell_type": "markdown",
      "metadata": {
        "id": "view-in-github",
        "colab_type": "text"
      },
      "source": [
        "<a href=\"https://colab.research.google.com/github/StephanieO-py/Tigo-Telecom-Mobile-Subscription-Plan/blob/main/Tigo_Telecom_Mobile_Subscription_Plan.ipynb\" target=\"_parent\"><img src=\"https://colab.research.google.com/assets/colab-badge.svg\" alt=\"Open In Colab\"/></a>"
      ]
    },
    {
      "cell_type": "markdown",
      "metadata": {
        "id": "C0MVEA2p5aPF"
      },
      "source": [
        "# AfterWork Data Science: Python Basics for Data Science Project"
      ]
    },
    {
      "cell_type": "markdown",
      "metadata": {
        "id": "iMj2wcK7RguK"
      },
      "source": [
        "## Problem Statement"
      ]
    },
    {
      "cell_type": "markdown",
      "metadata": {
        "id": "jhuHe8gDRii4"
      },
      "source": [
        "Create a program that performs some computation using the python programming language.\n",
        "Tigo Telcom provides a mobile subscription plan with 200 minutes of airtime and 200 text messages for $10 a month. Each additional minute of air time costs $.03, and other text messages cost $.001 each. The customer's bill is also subject to 14% VAT Tax. Write a python program that will read the no. of minutes and text messages used in a month, then displays the base charge, additional minutes (if any), other text messages (if any), the tax charged, and the total bill.\n",
        "A few things to note:\n",
        "* Your input should be in the form of a dictionary.\n",
        "* Your output should be more like an SMS message.\n",
        "* Display the charges in 2 decimal places.\n"
      ]
    },
    {
      "cell_type": "markdown",
      "metadata": {
        "id": "Rw1bfo1LdiBa"
      },
      "source": [
        "## Solution"
      ]
    },
    {
      "cell_type": "code",
      "metadata": {
        "colab": {
          "base_uri": "https://localhost:8080/"
        },
        "id": "ouPdFNtNMR6O",
        "outputId": "b4a4ca13-ea5c-4bbf-eba6-24e136fbac0d"
      },
      "source": [
        "# Defining a dictionary \n",
        "\n",
        "# Using the input() function to input data\n",
        "\n",
        "m = input(\"Enter minutes used: \")\n",
        "t = input(\"Enter texts used: \")\n",
        "\n",
        "# Creating a dictionary of input data\n",
        "mobile_sub = {'minutes': m,\n",
        "              'texts': t\n",
        "                \n",
        "               }"
      ],
      "execution_count": null,
      "outputs": [
        {
          "name": "stdout",
          "output_type": "stream",
          "text": [
            "Enter minutes used: 333\n",
            "Enter texts used: 111\n"
          ]
        }
      ]
    },
    {
      "cell_type": "code",
      "metadata": {
        "colab": {
          "base_uri": "https://localhost:8080/"
        },
        "id": "I0xO-zmJUsfO",
        "outputId": "a66deb68-3a50-4a8b-a763-bb2d6b001787"
      },
      "source": [
        "# Defining a function that takes in the dictionary and provides output\n",
        "\n",
        "def evaluateCharges():\n",
        "    \n",
        "  minutes_used = int(mobile_sub['minutes'])\n",
        "  texts_used = int(mobile_sub['texts'])\n",
        "\n",
        "# Define the Initial basecharge for 200 minutes of airtime and 200 text messages as $10 \n",
        "# Additional minutes and text messages will be charged separately\n",
        "  basecharge = 10\n",
        "\n",
        "# Performing different actions based on the conditions indicated in the question.\n",
        "  if minutes_used > 200:\n",
        "      aditional_minutes = minutes_used - 200\n",
        "  else: \n",
        "      aditional_minutes = 0\n",
        "  basecharge = basecharge + (aditional_minutes * 0.03)\n",
        "      \n",
        "  if texts_used > 200:\n",
        "      aditional_texts = texts_used - 200\n",
        "  else:\n",
        "      aditional_texts = 0\n",
        "  basecharge = basecharge + (aditional_texts * 0.001)\n",
        "  \n",
        "    \n",
        " # Applying a 14% tax on the base charge\n",
        "  taxApplied = basecharge * 1.14\n",
        "\n",
        " # Format our basecharge  2dp\n",
        "  taxApplied =  round(taxApplied ,2) \n",
        "\n",
        " # We then create a string with \n",
        "  output_string = \"Dear Customer, below are the charges for the month on your account : \" '\\n Minutes Used: ' +  str(minutes_used) + '\\n Texts Used: ' + str(texts_used) + '\\n Additional Minutes: ' + str(aditional_minutes) + '\\n Additional Texts: ' + str(aditional_texts) + '\\n Basecharge: $' + str(basecharge) + '\\n Tax Applied: 14% \\n Total Charges: $' +  str(taxApplied)\n",
        "\n",
        "  # the returning our output string\n",
        "  return print(output_string)\n",
        "        \n",
        "# Then calling our function and passing our dictionary\n",
        "\n",
        "evaluateCharges() "
      ],
      "execution_count": null,
      "outputs": [
        {
          "output_type": "stream",
          "name": "stdout",
          "text": [
            "Dear Customer, below are the charges for the month on your account : \n",
            " Minutes Used: 333\n",
            " Texts Used: 111\n",
            " Additional Minutes: 133\n",
            " Additional Texts: 0\n",
            " Basecharge: $13.99\n",
            " Tax Applied: 14% \n",
            " Total Charges: $15.95\n"
          ]
        }
      ]
    }
  ]
}